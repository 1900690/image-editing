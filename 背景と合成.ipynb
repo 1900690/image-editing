{
  "nbformat": 4,
  "nbformat_minor": 0,
  "metadata": {
    "colab": {
      "provenance": [],
      "authorship_tag": "ABX9TyOa4DJCCn8zV7y3vI+Z854C",
      "include_colab_link": true
    },
    "kernelspec": {
      "name": "python3",
      "display_name": "Python 3"
    },
    "language_info": {
      "name": "python"
    }
  },
  "cells": [
    {
      "cell_type": "markdown",
      "metadata": {
        "id": "view-in-github",
        "colab_type": "text"
      },
      "source": [
        "<a href=\"https://colab.research.google.com/github/1900690/removebg-semantic-image-making/blob/main/%E8%83%8C%E6%99%AF%E3%81%A8%E5%90%88%E6%88%90.ipynb\" target=\"_parent\"><img src=\"https://colab.research.google.com/assets/colab-badge.svg\" alt=\"Open In Colab\"/></a>"
      ]
    },
    {
      "cell_type": "code",
      "source": [
        "#ライブラリをインポート(機能を使えるようにする)\n",
        "import shutil\n",
        "import os\n",
        "\n",
        "file_name =\"semantic_segmentations.zip\"\n",
        "\n",
        "if os.path.exists('/content/foward'):\n",
        "    shutil.rmtree(\"/content/foward\")\n",
        "\n",
        "#データを解凍\n",
        "shutil.unpack_archive('/content/'+file_name, '/content/')\n",
        "os.rename('/content/'+os.path.splitext(file_name)[0]+'/', '/content/foward/')\n",
        "#zipを消す\n",
        "os.remove('/content/'+file_name)"
      ],
      "metadata": {
        "id": "vUxrgWaOgM9b"
      },
      "execution_count": 1,
      "outputs": []
    },
    {
      "cell_type": "code",
      "source": [
        "import shutil\n",
        "import os\n",
        "\n",
        "file_name =\"OKbud.zip\"\n",
        "\n",
        "if os.path.exists('/content/back'):\n",
        "    shutil.rmtree(\"/content/back\")\n",
        "\n",
        "#データを解凍\n",
        "shutil.unpack_archive('/content/'+file_name, '/content/')\n",
        "if os.path.exists('/content/'+os.path.splitext(file_name)[0]+'/'):\n",
        "  os.rename('/content/'+os.path.splitext(file_name)[0]+'/', '/content/back/')\n",
        "else:\n",
        "  os.rename('/content/original', '/content/back/')\n",
        "#zipを消す\n",
        "os.remove('/content/'+file_name)"
      ],
      "metadata": {
        "id": "WZgUBUVKlsmn"
      },
      "execution_count": 2,
      "outputs": []
    },
    {
      "cell_type": "code",
      "source": [
        "shutil.rmtree(\"/content/.ipynb_checkpoints\")"
      ],
      "metadata": {
        "id": "rrbtJBGUhcRL"
      },
      "execution_count": 4,
      "outputs": []
    },
    {
      "cell_type": "markdown",
      "source": [
        "#foward画像がjpgならpngに修正"
      ],
      "metadata": {
        "id": "UfDQOFJuRfEw"
      }
    },
    {
      "cell_type": "code",
      "source": [
        "from PIL import Image\n",
        "import os\n",
        "from PIL import Image\n",
        "import numpy as np\n",
        "\n",
        "\n",
        "def convert_jpg_to_png(input_folder, output_folder):\n",
        "    # 1. 入力フォルダ内のJPEG画像をリストアップ\n",
        "    jpg_files = [f for f in os.listdir(input_folder) if f.endswith('.jpg')]\n",
        "\n",
        "    # 2. 出力フォルダが存在しなければ作成\n",
        "    os.makedirs(output_folder, exist_ok=True)\n",
        "\n",
        "    # 3. 各JPEG画像をPNGに変換\n",
        "    for jpg_file in jpg_files:\n",
        "        jpg_path = os.path.join(input_folder, jpg_file)\n",
        "        # PNGの出力パスを生成\n",
        "        png_path = os.path.join(output_folder, os.path.splitext(jpg_file)[0] + '.png')\n",
        "\n",
        "        # 画像の変換\n",
        "        img_array = np.array(Image.open(jpg_path).convert('RGBA'))\n",
        "        for row in img_array:\n",
        "          for pixel in row:\n",
        "              if pixel[0] <= 70 and pixel[1] <= 70 and pixel[2] <= 70 :\n",
        "                  np.put(pixel,3,0)\n",
        "        #img = Image.fromarray(img_array)\n",
        "        #白黒反転\n",
        "        img = Image.fromarray(img_array)\n",
        "        img.save(png_path, 'PNG')\n",
        "\n",
        "if __name__ == \"__main__\":\n",
        "    input_folder = \"/content/foward\"  # JPEG画像があるフォルダ\n",
        "    output_folder = \"/content/foward_copy\"  # PNG画像を保存するフォルダ\n",
        "\n",
        "    convert_jpg_to_png(input_folder, output_folder)"
      ],
      "metadata": {
        "id": "r7AIIfLtSCov"
      },
      "execution_count": 3,
      "outputs": []
    },
    {
      "cell_type": "code",
      "source": [
        "#@title 事前準備\n",
        "import cv2\n",
        "import numpy as np\n",
        "from google.colab.patches import cv2_imshow\n",
        "\n",
        "def rotate(img, angle, scale):\n",
        "    \"\"\"\n",
        "    画像を回転（反転）させる\n",
        "    [in]  img:   回転させる画像\n",
        "    [in]  angle: 回転させる角度\n",
        "    [in]  scale: 拡大率\n",
        "    [out] 回転させた画像\n",
        "    \"\"\"\n",
        "\n",
        "    size = img.shape[:2]\n",
        "    mat = cv2.getRotationMatrix2D((size[0] // 2, size[1] // 2), angle, scale)\n",
        "    return cv2.warpAffine(img, mat, size, flags=cv2.INTER_CUBIC)\n",
        "\n",
        "\n",
        "def rotateR(img, level=[-10, 10], scale=1.5):\n",
        "    \"\"\"\n",
        "    ランダムに画像を回転させる\n",
        "    [in]  img:   回転させる画像\n",
        "    [in]  level: 回転させる角度の範囲\n",
        "    [out] 回転させた画像\n",
        "    [out] 回転させた角度\n",
        "    \"\"\"\n",
        "\n",
        "    angle = np.random.randint(level[0], level[1])\n",
        "    return rotate(img, angle, scale), angle\n",
        "\n",
        "def paste(fg, bg, mask_flg=True, random_flg=True):\n",
        "    \"\"\"\n",
        "    背景に前景を重ね合せる\n",
        "    [in]  fg:         重ね合せる背景\n",
        "    [in]  bg:         重ね合せる前景\n",
        "    [in]  mask_flg:   マスク処理を大きめにするフラグ\n",
        "    [in]  random_flg: 前景をランダムに配置するフラグ\n",
        "    [out] 重ね合せた画像\n",
        "    \"\"\"\n",
        "\n",
        "    # Load two images\n",
        "    img1 = bg.copy()\n",
        "    if random_flg:# ランダム回転\n",
        "        img2, _ = rotateR(fg, [-90, 90], 1.0)\n",
        "    else:\n",
        "        img2 = fg.copy()\n",
        "\n",
        "    # I want to put logo on top-left corner, So I create a ROI\n",
        "    w1, h1 = img1.shape[:2]\n",
        "    w2, h2 = img2.shape[:2]\n",
        "    if random_flg:# ランダム移動\n",
        "        x = np.random.randint(0, w1 - w2 + 1)\n",
        "        y = np.random.randint(0, w1 - w2 + 1)\n",
        "    else:\n",
        "        x = 0\n",
        "        y = 0\n",
        "\n",
        "    # Ensure the ROI dimensions are within the background image\n",
        "    x = max(0, min(x, w1 - w2))\n",
        "    y = max(0, min(y, h1 - h2))\n",
        "\n",
        "\n",
        "    roi = img1[x:x + w2, y:y + h2]\n",
        "\n",
        "    # Now create a mask of logo and create its inverse mask also\n",
        "    mask = img2[:, :, 3]\n",
        "    ret, mask_inv = cv2.threshold(\n",
        "        cv2.bitwise_not(mask),\n",
        "        200, 255, cv2.THRESH_BINARY\n",
        "    )\n",
        "\n",
        "    if mask_flg:# 縁を膨張・収縮で作成（膨張大きめ）\n",
        "        kernel1 = np.ones((5, 5), np.uint8)\n",
        "        kernel2 = np.ones((3, 3), np.uint8)\n",
        "        mask_inv = cv2.dilate(mask_inv, kernel1, iterations=1)\n",
        "        mask_inv = cv2.erode(mask_inv, kernel2, iterations=1)\n",
        "\n",
        "    # Now black-out the area of logo in ROI\n",
        "    img1_bg = cv2.bitwise_and(roi, roi, mask=mask_inv)\n",
        "\n",
        "    # Take only region of logo from logo image.\n",
        "    img2_fg = cv2.bitwise_and(img2, img2, mask=mask)\n",
        "\n",
        "    # Resize img2_fg to match img1_bg if necessary\n",
        "    if img1_bg.shape != img2_fg.shape:\n",
        "        img2_fg = cv2.resize(img2_fg, (img1_bg.shape[1], img1_bg.shape[0]))\n",
        "\n",
        "    # Ensure both images have the same number of channels\n",
        "    if img1_bg.shape[2] != img2_fg.shape[2]:\n",
        "        # Convert img2_fg to have the same number of channels as img1_bg\n",
        "        img2_fg = cv2.cvtColor(img2_fg, cv2.COLOR_BGRA2BGR)  # Assuming img2_fg has 4 channels (BGRA)\n",
        "\n",
        "\n",
        "    # Put logo in ROI and modify the main image\n",
        "    dst = cv2.add(img1_bg, img2_fg)\n",
        "    img1[x:x + w2, y:y + h2] = dst\n",
        "    return img1"
      ],
      "metadata": {
        "cellView": "form",
        "id": "TL0nvoetdat1"
      },
      "execution_count": 4,
      "outputs": []
    },
    {
      "cell_type": "code",
      "source": [
        "#@title ランダム合成\n",
        "import glob\n",
        "import os\n",
        "import random\n",
        "import numpy as np\n",
        "\n",
        "if not os.path.exists('/content/foward_copy/'):\n",
        "    shutil.copytree('/content/foward/', '/content/foward_copy/')\n",
        "\n",
        "\n",
        "file_list_fimg = sorted(glob.glob('/content/foward_copy/*.png'))\n",
        "file_list_bimg = sorted(glob.glob('/content/back/*.jpg'))\n",
        "\n",
        "\n",
        "if os.path.exists('/content/output'):\n",
        "    shutil.rmtree(\"/content/output\")\n",
        "if not os.path.exists('/content/output'):\n",
        "    os.makedirs('/content/output')\n",
        "\n",
        "count=100#画像の枚数\n",
        "\n",
        "for i in list(range(count)):\n",
        "  fimg=random.choice(file_list_fimg)\n",
        "  foward_image=cv2.imread(fimg, -1)\n",
        "\n",
        "  if not os.path.exists('/content/back'):\n",
        "    #黒背景に重ねる場合\n",
        "    back_image=np.zeros((640,480,foward_image.shape[2]),np.uint8)\n",
        "  else:\n",
        "    bimg=random.choice(file_list_bimg)\n",
        "    back_image=cv2.imread(bimg, -1)\n",
        "\n",
        "  img = paste(\n",
        "      foward_image,# 前景\n",
        "      back_image,# 背景\n",
        "      False,#縁膨張フラグ、\n",
        "      False,#ランダム回転・移動フラグ\n",
        "  )\n",
        "  if not os.path.exists('/content/back'):\n",
        "    cv2.imwrite('/content/output/black_'+os.path.splitext(os.path.basename(fimg))[0]+str(i).zfill(3)+'.jpg', img)\n",
        "  else:\n",
        "    cv2.imwrite('/content/output/'+os.path.splitext(os.path.basename(bimg))[0]+'_'+os.path.splitext(os.path.basename(fimg))[0]+str(i).zfill(3)+'.jpg', img)\n",
        "\n",
        "cv2_imshow(img)"
      ],
      "metadata": {
        "colab": {
          "base_uri": "https://localhost:8080/",
          "height": 349
        },
        "id": "FAguRy8RW-AJ",
        "outputId": "55ce7c6d-83ac-481b-fe0b-715432630d70"
      },
      "execution_count": 42,
      "outputs": [
        {
          "output_type": "error",
          "ename": "error",
          "evalue": "OpenCV(4.10.0) /io/opencv/modules/core/src/arithm.cpp:230: error: (-215:Assertion failed) (mtype == CV_8U || mtype == CV_8S) && _mask.sameSize(*psrc1) in function 'binary_op'\n",
          "traceback": [
            "\u001b[0;31m---------------------------------------------------------------------------\u001b[0m",
            "\u001b[0;31merror\u001b[0m                                     Traceback (most recent call last)",
            "\u001b[0;32m<ipython-input-42-882244e1225e>\u001b[0m in \u001b[0;36m<cell line: 0>\u001b[0;34m()\u001b[0m\n\u001b[1;32m     27\u001b[0m     \u001b[0mback_image\u001b[0m\u001b[0;34m=\u001b[0m\u001b[0mcv2\u001b[0m\u001b[0;34m.\u001b[0m\u001b[0mimread\u001b[0m\u001b[0;34m(\u001b[0m\u001b[0mbimg\u001b[0m\u001b[0;34m,\u001b[0m \u001b[0;34m-\u001b[0m\u001b[0;36m1\u001b[0m\u001b[0;34m)\u001b[0m\u001b[0;34m\u001b[0m\u001b[0;34m\u001b[0m\u001b[0m\n\u001b[1;32m     28\u001b[0m \u001b[0;34m\u001b[0m\u001b[0m\n\u001b[0;32m---> 29\u001b[0;31m   img = paste(\n\u001b[0m\u001b[1;32m     30\u001b[0m       \u001b[0mfoward_image\u001b[0m\u001b[0;34m,\u001b[0m\u001b[0;31m# 前景\u001b[0m\u001b[0;34m\u001b[0m\u001b[0;34m\u001b[0m\u001b[0m\n\u001b[1;32m     31\u001b[0m       \u001b[0mback_image\u001b[0m\u001b[0;34m,\u001b[0m\u001b[0;31m# 背景\u001b[0m\u001b[0;34m\u001b[0m\u001b[0;34m\u001b[0m\u001b[0m\n",
            "\u001b[0;32m<ipython-input-10-378d57bb8802>\u001b[0m in \u001b[0;36mpaste\u001b[0;34m(fg, bg, mask_flg, random_flg)\u001b[0m\n\u001b[1;32m     78\u001b[0m \u001b[0;34m\u001b[0m\u001b[0m\n\u001b[1;32m     79\u001b[0m     \u001b[0;31m# Now black-out the area of logo in ROI\u001b[0m\u001b[0;34m\u001b[0m\u001b[0;34m\u001b[0m\u001b[0m\n\u001b[0;32m---> 80\u001b[0;31m     \u001b[0mimg1_bg\u001b[0m \u001b[0;34m=\u001b[0m \u001b[0mcv2\u001b[0m\u001b[0;34m.\u001b[0m\u001b[0mbitwise_and\u001b[0m\u001b[0;34m(\u001b[0m\u001b[0mroi\u001b[0m\u001b[0;34m,\u001b[0m \u001b[0mroi\u001b[0m\u001b[0;34m,\u001b[0m \u001b[0mmask\u001b[0m\u001b[0;34m=\u001b[0m\u001b[0mmask_inv\u001b[0m\u001b[0;34m)\u001b[0m\u001b[0;34m\u001b[0m\u001b[0;34m\u001b[0m\u001b[0m\n\u001b[0m\u001b[1;32m     81\u001b[0m \u001b[0;34m\u001b[0m\u001b[0m\n\u001b[1;32m     82\u001b[0m     \u001b[0;31m# Take only region of logo from logo image.\u001b[0m\u001b[0;34m\u001b[0m\u001b[0;34m\u001b[0m\u001b[0m\n",
            "\u001b[0;31merror\u001b[0m: OpenCV(4.10.0) /io/opencv/modules/core/src/arithm.cpp:230: error: (-215:Assertion failed) (mtype == CV_8U || mtype == CV_8S) && _mask.sameSize(*psrc1) in function 'binary_op'\n"
          ]
        }
      ]
    },
    {
      "cell_type": "code",
      "source": [
        "#@markdown 作ったファイルをダウンロード\n",
        "import shutil\n",
        "import os\n",
        "from google.colab import files\n",
        "\n",
        "shutil.make_archive('/content/NGtest', 'zip', '/content/output')"
      ],
      "metadata": {
        "colab": {
          "base_uri": "https://localhost:8080/",
          "height": 35
        },
        "id": "MFpR6HPwobCy",
        "outputId": "7281f9c5-d9d3-4eb7-b263-6ec0c778ada5"
      },
      "execution_count": null,
      "outputs": [
        {
          "output_type": "execute_result",
          "data": {
            "text/plain": [
              "'/content/NGtest.zip'"
            ],
            "application/vnd.google.colaboratory.intrinsic+json": {
              "type": "string"
            }
          },
          "metadata": {},
          "execution_count": 28
        }
      ]
    },
    {
      "cell_type": "markdown",
      "source": [
        "#指定の位置に合成"
      ],
      "metadata": {
        "id": "boBrVD3qTiIk"
      }
    },
    {
      "cell_type": "code",
      "source": [
        "#@title 同じサイズなら\n",
        "import glob\n",
        "import os\n",
        "import random\n",
        "import numpy as np\n",
        "\n",
        "\n",
        "file_list_fimg = sorted(glob.glob('/content/foward_copy/*.png'))\n",
        "file_list_bimg = sorted(glob.glob('/content/back/*.jpg'))\n",
        "\n",
        "\n",
        "if os.path.exists('/content/output'):\n",
        "    shutil.rmtree(\"/content/output\")\n",
        "if not os.path.exists('/content/output'):\n",
        "    os.makedirs('/content/output')\n",
        "\n",
        "for i in range(len(file_list_fimg)):\n",
        "  foward_image=cv2.imread(file_list_fimg[i], -1)\n",
        "  back_image=cv2.imread(file_list_bimg[i], -1)\n",
        "\n",
        "  img = paste(\n",
        "      foward_image,# 前景\n",
        "      back_image,# 背景\n",
        "      False,#縁膨張フラグ、\n",
        "      False,#ランダム回転・移動フラグ\n",
        "  )\n",
        "  cv2.imwrite('/content/output/'+os.path.splitext(os.path.basename(file_list_fimg[i]))[0]+'.jpg', img)\n",
        "\n",
        "cv2_imshow(img)"
      ],
      "metadata": {
        "id": "3aT85hcrMIEs",
        "outputId": "40c3c38b-27c5-449a-f6c8-28095a78f76c",
        "colab": {
          "base_uri": "https://localhost:8080/",
          "height": 268
        }
      },
      "execution_count": 5,
      "outputs": [
        {
          "output_type": "display_data",
          "data": {
            "text/plain": [
              "<PIL.Image.Image image mode=RGB size=275x251>"
            ],
            "image/png": "[encoded data removed]",
            "image/jpeg": "[encoded data removed]"
          },
          "metadata": {}
        }
      ]
    },
    {
      "cell_type": "code",
      "source": [
        "#@title はめ込む背景\n",
        "import shutil\n",
        "import os\n",
        "\n",
        "file_name =\"syakuyaku500_20250205232421.zip\"\n",
        "\n",
        "if os.path.exists('/content/fit_in_back_img'):\n",
        "    shutil.rmtree(\"/content/fit_in_back_img\")\n",
        "\n",
        "#データを解凍\n",
        "shutil.unpack_archive('/content/'+file_name, '/content/')\n",
        "if os.path.exists('/content/'+os.path.splitext(file_name)[0]+'/'):\n",
        "  os.rename('/content/'+os.path.splitext(file_name)[0]+'/', '/content/fit_in_back_img/')\n",
        "else:\n",
        "  os.rename('/content/original', '/content/fit_in_back_img/')\n",
        "#zipを消す\n",
        "os.remove('/content/'+file_name)"
      ],
      "metadata": {
        "id": "EUprIKd9g6pV"
      },
      "execution_count": 13,
      "outputs": []
    },
    {
      "cell_type": "code",
      "source": [
        "import cv2\n",
        "from google.colab.patches import cv2_imshow\n",
        "import glob\n",
        "import os\n",
        "import pandas as pd\n",
        "\n",
        "if os.path.exists('/content/back_reaf_img/'):\n",
        "    shutil.rmtree(\"/content/back_reaf_img/\")\n",
        "if not os.path.exists('/content/back_reaf_img'):\n",
        "    os.makedirs('/content/back_reaf_img')\n",
        "\n",
        "df = pd.read_csv('/content/fit_in_back_img/csv/annotations.csv', usecols=['Name', 'x1', 'y1', 'x2', 'y2'])\n",
        "\n",
        "img_name = sorted(glob.glob('/content/output/*.jpg'))\n",
        "\n",
        "for imgname in img_name:\n",
        "  list_look_up = os.path.basename(imgname)\n",
        "  filtered_df = df[df['Name'].str.contains(list_look_up[:5])]\n",
        "\n",
        "  fore_img = cv2.imread('/content/output/'+list_look_up)\n",
        "  back_img = cv2.imread('/content/fit_in_back_img/original/'+list_look_up[:7]+'.jpg')\n",
        "\n",
        "  dx=int(filtered_df['x1'])\n",
        "  dy=int(filtered_df['y1'])\n",
        "  h, w = fore_img.shape[:2]\n",
        "  back_img[dy:dy+h, dx:dx+w] = fore_img\n",
        "  cv2.imwrite('/content/fit_in_back_img/'+list_look_up[:4]+'.jpg', back_img)\n",
        "\n",
        "cv2_imshow(back_img)"
      ],
      "metadata": {
        "id": "ga1o6zeUapW6",
        "outputId": "ae9c1a2a-47cb-4a72-8926-7cf91f132295",
        "colab": {
          "base_uri": "https://localhost:8080/",
          "height": 356
        }
      },
      "execution_count": 26,
      "outputs": [
        {
          "output_type": "error",
          "ename": "error",
          "evalue": "missing ), unterminated subpattern at position 4",
          "traceback": [
            "\u001b[0;31m---------------------------------------------------------------------------\u001b[0m",
            "\u001b[0;31merror\u001b[0m                                     Traceback (most recent call last)",
            "\u001b[0;32m<ipython-input-26-191290466df1>\u001b[0m in \u001b[0;36m<cell line: 0>\u001b[0;34m()\u001b[0m\n\u001b[1;32m     16\u001b[0m \u001b[0;32mfor\u001b[0m \u001b[0mimgname\u001b[0m \u001b[0;32min\u001b[0m \u001b[0mimg_name\u001b[0m\u001b[0;34m:\u001b[0m\u001b[0;34m\u001b[0m\u001b[0;34m\u001b[0m\u001b[0m\n\u001b[1;32m     17\u001b[0m   \u001b[0mlist_look_up\u001b[0m \u001b[0;34m=\u001b[0m \u001b[0mos\u001b[0m\u001b[0;34m.\u001b[0m\u001b[0mpath\u001b[0m\u001b[0;34m.\u001b[0m\u001b[0mbasename\u001b[0m\u001b[0;34m(\u001b[0m\u001b[0mimgname\u001b[0m\u001b[0;34m)\u001b[0m\u001b[0;34m\u001b[0m\u001b[0;34m\u001b[0m\u001b[0m\n\u001b[0;32m---> 18\u001b[0;31m   \u001b[0mfiltered_df\u001b[0m \u001b[0;34m=\u001b[0m \u001b[0mdf\u001b[0m\u001b[0;34m[\u001b[0m\u001b[0mdf\u001b[0m\u001b[0;34m[\u001b[0m\u001b[0;34m'Name'\u001b[0m\u001b[0;34m]\u001b[0m\u001b[0;34m.\u001b[0m\u001b[0mstr\u001b[0m\u001b[0;34m.\u001b[0m\u001b[0mcontains\u001b[0m\u001b[0;34m(\u001b[0m\u001b[0mlist_look_up\u001b[0m\u001b[0;34m[\u001b[0m\u001b[0;34m:\u001b[0m\u001b[0;36m5\u001b[0m\u001b[0;34m]\u001b[0m\u001b[0;34m)\u001b[0m\u001b[0;34m]\u001b[0m\u001b[0;34m\u001b[0m\u001b[0;34m\u001b[0m\u001b[0m\n\u001b[0m\u001b[1;32m     19\u001b[0m \u001b[0;34m\u001b[0m\u001b[0m\n\u001b[1;32m     20\u001b[0m   \u001b[0mfore_img\u001b[0m \u001b[0;34m=\u001b[0m \u001b[0mcv2\u001b[0m\u001b[0;34m.\u001b[0m\u001b[0mimread\u001b[0m\u001b[0;34m(\u001b[0m\u001b[0;34m'/content/output/'\u001b[0m\u001b[0;34m+\u001b[0m\u001b[0mlist_look_up\u001b[0m\u001b[0;34m)\u001b[0m\u001b[0;34m\u001b[0m\u001b[0;34m\u001b[0m\u001b[0m\n",
            "\u001b[0;32m/usr/local/lib/python3.11/dist-packages/pandas/core/strings/accessor.py\u001b[0m in \u001b[0;36mwrapper\u001b[0;34m(self, *args, **kwargs)\u001b[0m\n\u001b[1;32m    135\u001b[0m                 )\n\u001b[1;32m    136\u001b[0m                 \u001b[0;32mraise\u001b[0m \u001b[0mTypeError\u001b[0m\u001b[0;34m(\u001b[0m\u001b[0mmsg\u001b[0m\u001b[0;34m)\u001b[0m\u001b[0;34m\u001b[0m\u001b[0;34m\u001b[0m\u001b[0m\n\u001b[0;32m--> 137\u001b[0;31m             \u001b[0;32mreturn\u001b[0m \u001b[0mfunc\u001b[0m\u001b[0;34m(\u001b[0m\u001b[0mself\u001b[0m\u001b[0;34m,\u001b[0m \u001b[0;34m*\u001b[0m\u001b[0margs\u001b[0m\u001b[0;34m,\u001b[0m \u001b[0;34m**\u001b[0m\u001b[0mkwargs\u001b[0m\u001b[0;34m)\u001b[0m\u001b[0;34m\u001b[0m\u001b[0;34m\u001b[0m\u001b[0m\n\u001b[0m\u001b[1;32m    138\u001b[0m \u001b[0;34m\u001b[0m\u001b[0m\n\u001b[1;32m    139\u001b[0m         \u001b[0mwrapper\u001b[0m\u001b[0;34m.\u001b[0m\u001b[0m__name__\u001b[0m \u001b[0;34m=\u001b[0m \u001b[0mfunc_name\u001b[0m\u001b[0;34m\u001b[0m\u001b[0;34m\u001b[0m\u001b[0m\n",
            "\u001b[0;32m/usr/local/lib/python3.11/dist-packages/pandas/core/strings/accessor.py\u001b[0m in \u001b[0;36mcontains\u001b[0;34m(self, pat, case, flags, na, regex)\u001b[0m\n\u001b[1;32m   1325\u001b[0m         \u001b[0mdtype\u001b[0m\u001b[0;34m:\u001b[0m \u001b[0mbool\u001b[0m\u001b[0;34m\u001b[0m\u001b[0;34m\u001b[0m\u001b[0m\n\u001b[1;32m   1326\u001b[0m         \"\"\"\n\u001b[0;32m-> 1327\u001b[0;31m         \u001b[0;32mif\u001b[0m \u001b[0mregex\u001b[0m \u001b[0;32mand\u001b[0m \u001b[0mre\u001b[0m\u001b[0;34m.\u001b[0m\u001b[0mcompile\u001b[0m\u001b[0;34m(\u001b[0m\u001b[0mpat\u001b[0m\u001b[0;34m)\u001b[0m\u001b[0;34m.\u001b[0m\u001b[0mgroups\u001b[0m\u001b[0;34m:\u001b[0m\u001b[0;34m\u001b[0m\u001b[0;34m\u001b[0m\u001b[0m\n\u001b[0m\u001b[1;32m   1328\u001b[0m             warnings.warn(\n\u001b[1;32m   1329\u001b[0m                 \u001b[0;34m\"This pattern is interpreted as a regular expression, and has \"\u001b[0m\u001b[0;34m\u001b[0m\u001b[0;34m\u001b[0m\u001b[0m\n",
            "\u001b[0;32m/usr/lib/python3.11/re/__init__.py\u001b[0m in \u001b[0;36mcompile\u001b[0;34m(pattern, flags)\u001b[0m\n\u001b[1;32m    225\u001b[0m \u001b[0;32mdef\u001b[0m \u001b[0mcompile\u001b[0m\u001b[0;34m(\u001b[0m\u001b[0mpattern\u001b[0m\u001b[0;34m,\u001b[0m \u001b[0mflags\u001b[0m\u001b[0;34m=\u001b[0m\u001b[0;36m0\u001b[0m\u001b[0;34m)\u001b[0m\u001b[0;34m:\u001b[0m\u001b[0;34m\u001b[0m\u001b[0;34m\u001b[0m\u001b[0m\n\u001b[1;32m    226\u001b[0m     \u001b[0;34m\"Compile a regular expression pattern, returning a Pattern object.\"\u001b[0m\u001b[0;34m\u001b[0m\u001b[0;34m\u001b[0m\u001b[0m\n\u001b[0;32m--> 227\u001b[0;31m     \u001b[0;32mreturn\u001b[0m \u001b[0m_compile\u001b[0m\u001b[0;34m(\u001b[0m\u001b[0mpattern\u001b[0m\u001b[0;34m,\u001b[0m \u001b[0mflags\u001b[0m\u001b[0;34m)\u001b[0m\u001b[0;34m\u001b[0m\u001b[0;34m\u001b[0m\u001b[0m\n\u001b[0m\u001b[1;32m    228\u001b[0m \u001b[0;34m\u001b[0m\u001b[0m\n\u001b[1;32m    229\u001b[0m \u001b[0;32mdef\u001b[0m \u001b[0mpurge\u001b[0m\u001b[0;34m(\u001b[0m\u001b[0;34m)\u001b[0m\u001b[0;34m:\u001b[0m\u001b[0;34m\u001b[0m\u001b[0;34m\u001b[0m\u001b[0m\n",
            "\u001b[0;32m/usr/lib/python3.11/re/__init__.py\u001b[0m in \u001b[0;36m_compile\u001b[0;34m(pattern, flags)\u001b[0m\n\u001b[1;32m    292\u001b[0m                   \u001b[0;34m\"Don't use it.\"\u001b[0m\u001b[0;34m,\u001b[0m\u001b[0;34m\u001b[0m\u001b[0;34m\u001b[0m\u001b[0m\n\u001b[1;32m    293\u001b[0m                   DeprecationWarning)\n\u001b[0;32m--> 294\u001b[0;31m     \u001b[0mp\u001b[0m \u001b[0;34m=\u001b[0m \u001b[0m_compiler\u001b[0m\u001b[0;34m.\u001b[0m\u001b[0mcompile\u001b[0m\u001b[0;34m(\u001b[0m\u001b[0mpattern\u001b[0m\u001b[0;34m,\u001b[0m \u001b[0mflags\u001b[0m\u001b[0;34m)\u001b[0m\u001b[0;34m\u001b[0m\u001b[0;34m\u001b[0m\u001b[0m\n\u001b[0m\u001b[1;32m    295\u001b[0m     \u001b[0;32mif\u001b[0m \u001b[0;32mnot\u001b[0m \u001b[0;34m(\u001b[0m\u001b[0mflags\u001b[0m \u001b[0;34m&\u001b[0m \u001b[0mDEBUG\u001b[0m\u001b[0;34m)\u001b[0m\u001b[0;34m:\u001b[0m\u001b[0;34m\u001b[0m\u001b[0;34m\u001b[0m\u001b[0m\n\u001b[1;32m    296\u001b[0m         \u001b[0;32mif\u001b[0m \u001b[0mlen\u001b[0m\u001b[0;34m(\u001b[0m\u001b[0m_cache\u001b[0m\u001b[0;34m)\u001b[0m \u001b[0;34m>=\u001b[0m \u001b[0m_MAXCACHE\u001b[0m\u001b[0;34m:\u001b[0m\u001b[0;34m\u001b[0m\u001b[0;34m\u001b[0m\u001b[0m\n",
            "\u001b[0;32m/usr/lib/python3.11/re/_compiler.py\u001b[0m in \u001b[0;36mcompile\u001b[0;34m(p, flags)\u001b[0m\n\u001b[1;32m    743\u001b[0m     \u001b[0;32mif\u001b[0m \u001b[0misstring\u001b[0m\u001b[0;34m(\u001b[0m\u001b[0mp\u001b[0m\u001b[0;34m)\u001b[0m\u001b[0;34m:\u001b[0m\u001b[0;34m\u001b[0m\u001b[0;34m\u001b[0m\u001b[0m\n\u001b[1;32m    744\u001b[0m         \u001b[0mpattern\u001b[0m \u001b[0;34m=\u001b[0m \u001b[0mp\u001b[0m\u001b[0;34m\u001b[0m\u001b[0;34m\u001b[0m\u001b[0m\n\u001b[0;32m--> 745\u001b[0;31m         \u001b[0mp\u001b[0m \u001b[0;34m=\u001b[0m \u001b[0m_parser\u001b[0m\u001b[0;34m.\u001b[0m\u001b[0mparse\u001b[0m\u001b[0;34m(\u001b[0m\u001b[0mp\u001b[0m\u001b[0;34m,\u001b[0m \u001b[0mflags\u001b[0m\u001b[0;34m)\u001b[0m\u001b[0;34m\u001b[0m\u001b[0;34m\u001b[0m\u001b[0m\n\u001b[0m\u001b[1;32m    746\u001b[0m     \u001b[0;32melse\u001b[0m\u001b[0;34m:\u001b[0m\u001b[0;34m\u001b[0m\u001b[0;34m\u001b[0m\u001b[0m\n\u001b[1;32m    747\u001b[0m         \u001b[0mpattern\u001b[0m \u001b[0;34m=\u001b[0m \u001b[0;32mNone\u001b[0m\u001b[0;34m\u001b[0m\u001b[0;34m\u001b[0m\u001b[0m\n",
            "\u001b[0;32m/usr/lib/python3.11/re/_parser.py\u001b[0m in \u001b[0;36mparse\u001b[0;34m(str, flags, state)\u001b[0m\n\u001b[1;32m    987\u001b[0m     \u001b[0mstate\u001b[0m\u001b[0;34m.\u001b[0m\u001b[0mstr\u001b[0m \u001b[0;34m=\u001b[0m \u001b[0mstr\u001b[0m\u001b[0;34m\u001b[0m\u001b[0;34m\u001b[0m\u001b[0m\n\u001b[1;32m    988\u001b[0m \u001b[0;34m\u001b[0m\u001b[0m\n\u001b[0;32m--> 989\u001b[0;31m     \u001b[0mp\u001b[0m \u001b[0;34m=\u001b[0m \u001b[0m_parse_sub\u001b[0m\u001b[0;34m(\u001b[0m\u001b[0msource\u001b[0m\u001b[0;34m,\u001b[0m \u001b[0mstate\u001b[0m\u001b[0;34m,\u001b[0m \u001b[0mflags\u001b[0m \u001b[0;34m&\u001b[0m \u001b[0mSRE_FLAG_VERBOSE\u001b[0m\u001b[0;34m,\u001b[0m \u001b[0;36m0\u001b[0m\u001b[0;34m)\u001b[0m\u001b[0;34m\u001b[0m\u001b[0;34m\u001b[0m\u001b[0m\n\u001b[0m\u001b[1;32m    990\u001b[0m     \u001b[0mp\u001b[0m\u001b[0;34m.\u001b[0m\u001b[0mstate\u001b[0m\u001b[0;34m.\u001b[0m\u001b[0mflags\u001b[0m \u001b[0;34m=\u001b[0m \u001b[0mfix_flags\u001b[0m\u001b[0;34m(\u001b[0m\u001b[0mstr\u001b[0m\u001b[0;34m,\u001b[0m \u001b[0mp\u001b[0m\u001b[0;34m.\u001b[0m\u001b[0mstate\u001b[0m\u001b[0;34m.\u001b[0m\u001b[0mflags\u001b[0m\u001b[0;34m)\u001b[0m\u001b[0;34m\u001b[0m\u001b[0;34m\u001b[0m\u001b[0m\n\u001b[1;32m    991\u001b[0m \u001b[0;34m\u001b[0m\u001b[0m\n",
            "\u001b[0;32m/usr/lib/python3.11/re/_parser.py\u001b[0m in \u001b[0;36m_parse_sub\u001b[0;34m(source, state, verbose, nested)\u001b[0m\n\u001b[1;32m    462\u001b[0m     \u001b[0mstart\u001b[0m \u001b[0;34m=\u001b[0m \u001b[0msource\u001b[0m\u001b[0;34m.\u001b[0m\u001b[0mtell\u001b[0m\u001b[0;34m(\u001b[0m\u001b[0;34m)\u001b[0m\u001b[0;34m\u001b[0m\u001b[0;34m\u001b[0m\u001b[0m\n\u001b[1;32m    463\u001b[0m     \u001b[0;32mwhile\u001b[0m \u001b[0;32mTrue\u001b[0m\u001b[0;34m:\u001b[0m\u001b[0;34m\u001b[0m\u001b[0;34m\u001b[0m\u001b[0m\n\u001b[0;32m--> 464\u001b[0;31m         itemsappend(_parse(source, state, verbose, nested + 1,\n\u001b[0m\u001b[1;32m    465\u001b[0m                            not nested and not items))\n\u001b[1;32m    466\u001b[0m         \u001b[0;32mif\u001b[0m \u001b[0;32mnot\u001b[0m \u001b[0msourcematch\u001b[0m\u001b[0;34m(\u001b[0m\u001b[0;34m\"|\"\u001b[0m\u001b[0;34m)\u001b[0m\u001b[0;34m:\u001b[0m\u001b[0;34m\u001b[0m\u001b[0;34m\u001b[0m\u001b[0m\n",
            "\u001b[0;32m/usr/lib/python3.11/re/_parser.py\u001b[0m in \u001b[0;36m_parse\u001b[0;34m(source, state, verbose, nested, first)\u001b[0m\n\u001b[1;32m    872\u001b[0m             \u001b[0mp\u001b[0m \u001b[0;34m=\u001b[0m \u001b[0m_parse_sub\u001b[0m\u001b[0;34m(\u001b[0m\u001b[0msource\u001b[0m\u001b[0;34m,\u001b[0m \u001b[0mstate\u001b[0m\u001b[0;34m,\u001b[0m \u001b[0msub_verbose\u001b[0m\u001b[0;34m,\u001b[0m \u001b[0mnested\u001b[0m \u001b[0;34m+\u001b[0m \u001b[0;36m1\u001b[0m\u001b[0;34m)\u001b[0m\u001b[0;34m\u001b[0m\u001b[0;34m\u001b[0m\u001b[0m\n\u001b[1;32m    873\u001b[0m             \u001b[0;32mif\u001b[0m \u001b[0;32mnot\u001b[0m \u001b[0msource\u001b[0m\u001b[0;34m.\u001b[0m\u001b[0mmatch\u001b[0m\u001b[0;34m(\u001b[0m\u001b[0;34m\")\"\u001b[0m\u001b[0;34m)\u001b[0m\u001b[0;34m:\u001b[0m\u001b[0;34m\u001b[0m\u001b[0;34m\u001b[0m\u001b[0m\n\u001b[0;32m--> 874\u001b[0;31m                 raise source.error(\"missing ), unterminated subpattern\",\n\u001b[0m\u001b[1;32m    875\u001b[0m                                    source.tell() - start)\n\u001b[1;32m    876\u001b[0m             \u001b[0;32mif\u001b[0m \u001b[0mgroup\u001b[0m \u001b[0;32mis\u001b[0m \u001b[0;32mnot\u001b[0m \u001b[0;32mNone\u001b[0m\u001b[0;34m:\u001b[0m\u001b[0;34m\u001b[0m\u001b[0;34m\u001b[0m\u001b[0m\n",
            "\u001b[0;31merror\u001b[0m: missing ), unterminated subpattern at position 4"
          ]
        }
      ]
    },
    {
      "cell_type": "code",
      "source": [
        "list_look_up[:7]"
      ],
      "metadata": {
        "id": "AIZbraCylDnL",
        "outputId": "f658e0ff-722f-43fd-d625-9f432194e081",
        "colab": {
          "base_uri": "https://localhost:8080/",
          "height": 35
        }
      },
      "execution_count": 28,
      "outputs": [
        {
          "output_type": "execute_result",
          "data": {
            "text/plain": [
              "'003 (2)'"
            ],
            "application/vnd.google.colaboratory.intrinsic+json": {
              "type": "string"
            }
          },
          "metadata": {},
          "execution_count": 28
        }
      ]
    },
    {
      "cell_type": "code",
      "source": [
        "('/content/output/'+list_look_up)"
      ],
      "metadata": {
        "id": "BwOp0VNxkZch",
        "outputId": "3d5ded7c-211e-424d-fbe5-dcfb61f22164",
        "colab": {
          "base_uri": "https://localhost:8080/",
          "height": 35
        }
      },
      "execution_count": 20,
      "outputs": [
        {
          "output_type": "execute_result",
          "data": {
            "text/plain": [
              "'/content/output/003 (2)_0.jpg'"
            ],
            "application/vnd.google.colaboratory.intrinsic+json": {
              "type": "string"
            }
          },
          "metadata": {},
          "execution_count": 20
        }
      ]
    }
  ]
}