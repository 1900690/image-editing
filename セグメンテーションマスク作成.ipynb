{
  "nbformat": 4,
  "nbformat_minor": 0,
  "metadata": {
    "colab": {
      "name": "マスク画像からCOCOファイル作成.ipynb",
      "provenance": [],
      "include_colab_link": true
    },
    "kernelspec": {
      "name": "python3",
      "display_name": "Python 3"
    },
    "language_info": {
      "name": "python"
    }
  },
  "cells": [
    {
      "cell_type": "markdown",
      "metadata": {
        "id": "view-in-github",
        "colab_type": "text"
      },
      "source": [
        "<a href=\"https://colab.research.google.com/github/1900690/removebg-semantic-image-making/blob/main/%E3%82%BB%E3%82%B0%E3%83%A1%E3%83%B3%E3%83%86%E3%83%BC%E3%82%B7%E3%83%A7%E3%83%B3%E3%83%9E%E3%82%B9%E3%82%AF%E4%BD%9C%E6%88%90.ipynb\" target=\"_parent\"><img src=\"https://colab.research.google.com/assets/colab-badge.svg\" alt=\"Open In Colab\"/></a>"
      ]
    },
    {
      "cell_type": "markdown",
      "source": [
        "#背景処理画像を作成\n"
      ],
      "metadata": {
        "id": "sSyAALr5UAk_"
      }
    },
    {
      "cell_type": "markdown",
      "source": [
        "※フォルダには生画像、背景処理画像をセットで入れておく"
      ],
      "metadata": {
        "id": "csL-qRHPV5Aq"
      }
    },
    {
      "cell_type": "markdown",
      "source": [
        "##ローカルから画像を入手する場合\n",
        "\n",
        "画像の入ったフォルダをzip化(日本語は文字化けする)、ダウンロードののち、以下のコードで解凍"
      ],
      "metadata": {
        "id": "HGRL9p2N6qDD"
      }
    },
    {
      "cell_type": "code",
      "source": [
        "\n",
        "#ライブラリをインポート(機能を使えるようにする)\n",
        "import shutil\n",
        "import os\n",
        "from google.colab import files\n",
        "import math\n",
        "\n",
        "file_name =\"bud.zip\"\n",
        "#データを解凍\n",
        "shutil.unpack_archive('/content/'+file_name, '/content/')\n",
        "#zipを消す\n",
        "os.remove('/content/'+file_name)"
      ],
      "metadata": {
        "id": "ciEn7BP26nIT"
      },
      "execution_count": 1,
      "outputs": []
    },
    {
      "cell_type": "markdown",
      "source": [
        "#画像の仕分け\n",
        "\n",
        "画像のリストを取得し、生画像、背景処理画像それぞれのフォルダに入れるプログラム"
      ],
      "metadata": {
        "id": "Nqojv1P5WG2j"
      }
    },
    {
      "cell_type": "code",
      "source": [
        "#参考https://kino-code.com/files-move/\n",
        "import os\n",
        "import shutil\n",
        "#作成するフォルダネーム\n",
        "file_extensions = ['jpg','png']\n",
        "file_extensions\n",
        "\n",
        "#読み取りたいディレクトリパスを入れる\n",
        "read_path = 'bud'#★読み取るフォルダネームに合わせて変更\n",
        "read_files = os.listdir(read_path)\n",
        "\n",
        "#拡張子リストを取得するフォー文を追加する。\n",
        "for file_extension in file_extensions:\n",
        "  if not os.path.exists(file_extension):\n",
        "    os.mkdir(file_extension)\n",
        "\n",
        "  #指定の拡張子だけのファイル名をリストを作る\n",
        "  file_list = []\n",
        "  for file_name in read_files:\n",
        "      if file_name.endswith(file_extension):\n",
        "          file_list.append(file_name)\n",
        "\n",
        "  #read_listから、指定の拡張子のファイルだけ指定のディレクトリにコピーする\n",
        "  for file_name in file_list:\n",
        "      copy_from = './' + read_path + '/' + file_name\n",
        "      copy_to = './' + file_extension + '/' + file_name\n",
        "      shutil.copy2(copy_from, copy_to)"
      ],
      "metadata": {
        "id": "HuMmQBDPWZVF"
      },
      "execution_count": 2,
      "outputs": []
    },
    {
      "cell_type": "markdown",
      "source": [
        "#マスク画像を取得"
      ],
      "metadata": {
        "id": "B0Mtw15qt-B5"
      }
    },
    {
      "cell_type": "markdown",
      "source": [
        "jpgフォルダには元の画像を、maskフォルダにはマスク画像を入れる。それぞれのセットごとに同じ名前を付けること"
      ],
      "metadata": {
        "id": "9k7WVm4x_x_i"
      }
    },
    {
      "cell_type": "markdown",
      "source": [
        "アルファチャンネル（透過度）のみ取得"
      ],
      "metadata": {
        "id": "d4iO6yqx7OSM"
      }
    },
    {
      "cell_type": "code",
      "source": [
        "import cv2\n",
        "from matplotlib import pyplot as plt\n",
        "import glob\n",
        "\n",
        "#jpgフォルダのリストを取得\n",
        "LOAD_FOLDA = 'png'\n",
        "LOAD_NAME = os.listdir(LOAD_FOLDA)\n",
        "\n",
        "\n",
        "#マスクフォルダを作成\n",
        "SAVE_NAME = 'mask'\n",
        "if not os.path.exists('./' +SAVE_NAME):\n",
        "    os.mkdir('./' +SAVE_NAME)\n",
        "\n",
        "#マスク画像を作るためのfor文\n",
        "for file_name in LOAD_NAME:\n",
        "\n",
        "  IMAGE_PATH='/content/' + LOAD_FOLDA +'/'+file_name\n",
        "  image = cv2.imread(IMAGE_PATH, cv2.IMREAD_UNCHANGED)# 画像を読み込んでNumPy配列を作成\n",
        "  alpha_image = image[:,:,3]# スライスを利用してアルファチャンネルのみを切り出し\n",
        "  cv2.imwrite('/content/'+SAVE_NAME+'/'+file_name, alpha_image)# 画像ファイルとして保存\n",
        "\n",
        "#マスク画像の名前を置き換えるためのfor文\n",
        "FILE_PASS=glob.glob('/content/mask/*')\n",
        "\n",
        "for name in FILE_PASS:\n",
        "  #nameの名前をRENAMEへ変更\n",
        "  RENAME=name.replace('-removebg-preview', '')\n",
        "  os.rename(name, RENAME)"
      ],
      "metadata": {
        "id": "VgG8XwOV7NgE"
      },
      "execution_count": 3,
      "outputs": []
    },
    {
      "cell_type": "markdown",
      "source": [
        "#カラー画像を取得"
      ],
      "metadata": {
        "id": "C-iQ5ld3t0_t"
      }
    },
    {
      "cell_type": "code",
      "source": [
        "import cv2\n",
        "from matplotlib import pyplot as plt\n",
        "import glob\n",
        "\n",
        "color_list = [(255,0,0),(0,255,0),(0,0,255),(255,255,0),(0,255,255),(255,255,255)]\n",
        "\n",
        "\n",
        "#maskフォルダのリストを取得\n",
        "LOAD_FOLDA = 'mask'\n",
        "LOAD_NAME = os.listdir(LOAD_FOLDA)\n",
        "\n",
        "\n",
        "#colerを作成\n",
        "SAVE_NAME = 'coler'\n",
        "if not os.path.exists('./' +SAVE_NAME):\n",
        "    os.mkdir('./' +SAVE_NAME)\n",
        "\n",
        "#coler画像を作るためのfor文\n",
        "for file_name in LOAD_NAME:\n",
        "  im = cv2.imread('/content/'+LOAD_FOLDA+'/'+file_name,flags=cv2.IMREAD_GRAYSCALE)\n",
        "  contours, hierarchy = cv2.findContours(im,cv2.RETR_EXTERNAL,cv2.CHAIN_APPROX_SIMPLE)\n",
        "\n",
        "  img2 = cv2.cvtColor(im, cv2.COLOR_GRAY2BGR)\n",
        "  for i in range(len(contours)):\n",
        "      cnt = contours[i]\n",
        "      img2 = cv2.drawContours(img2, [cnt], 0, color_list[i], -1)\n",
        "  arfa_image = cv2.cvtColor(img2, cv2.COLOR_BGR2RGB)\n",
        "  cv2.imwrite('/content/'+SAVE_NAME+'/'+file_name, arfa_image)# 画像ファイルとして保存\n",
        "\n",
        "#カラーコードをHEX形式でtxtに出力\n",
        "fname = '/content/'+SAVE_NAME+'/'+'coler_code.txt'\n",
        "f = open(fname,'w')\n",
        "for i in color_list:\n",
        "  html_color='#%02X%02X%02X' % i+\"\\n\"\n",
        "  f.write(html_color)\n",
        "f.close()"
      ],
      "metadata": {
        "id": "331DYtPdt0o0"
      },
      "execution_count": 4,
      "outputs": []
    },
    {
      "cell_type": "markdown",
      "source": [
        "##読み込んだ画像を表示する場合\n",
        "\n",
        "・OpenCVを使って画像を読み込む cv2.imreadでOpenCV形式に変換 OpenCVはBGRなのでcvtColorでRGBに直してから表示する"
      ],
      "metadata": {
        "id": "5VRBG0d67CL_"
      }
    },
    {
      "cell_type": "code",
      "source": [
        "import cv2\n",
        "from matplotlib import pyplot as plt\n",
        "image_name='/content/mask/003 (2)_0.png'\n",
        "orig = cv2.imread(image_name)\n",
        "src = cv2.cvtColor(orig, cv2.COLOR_BGR2RGB)\n",
        "plt.imshow(src)"
      ],
      "metadata": {
        "id": "15iy-N5W7Dy5",
        "outputId": "f162d853-6159-46c2-ae06-552834571207",
        "colab": {
          "base_uri": "https://localhost:8080/",
          "height": 451
        }
      },
      "execution_count": null,
      "outputs": [
        {
          "output_type": "execute_result",
          "data": {
            "text/plain": [
              "<matplotlib.image.AxesImage at 0x7dd37b299690>"
            ]
          },
          "metadata": {},
          "execution_count": 31
        },
        {
          "output_type": "display_data",
          "data": {
            "text/plain": [
              "<Figure size 640x480 with 1 Axes>"
            ],
            "image/png": "[encoded data removed]"
          },
          "metadata": {}
        }
      ]
    },
    {
      "cell_type": "code",
      "source": [
        "im = cv2.imread(image_name,flags=cv2.IMREAD_GRAYSCALE)\n",
        "contours, hierarchy = cv2.findContours(im,cv2.RETR_EXTERNAL,cv2.CHAIN_APPROX_SIMPLE)\n",
        "img = cv2.cvtColor(im, cv2.COLOR_GRAY2BGR)\n",
        "#drawContoursの最後の引数で輪郭描画線の太さが指定できる。\n",
        "img = cv2.drawContours(img, contours, -1, (0,255,0), 1)\n",
        "plt.imshow(img)\n",
        "plt.show()"
      ],
      "metadata": {
        "colab": {
          "base_uri": "https://localhost:8080/",
          "height": 434
        },
        "id": "dk_yaDwjrdJy",
        "outputId": "1ea6c4aa-6689-4b6f-efed-a12047ccb8f9"
      },
      "execution_count": null,
      "outputs": [
        {
          "output_type": "display_data",
          "data": {
            "text/plain": [
              "<Figure size 640x480 with 1 Axes>"
            ],
            "image/png": "[encoded data removed]"
          },
          "metadata": {}
        }
      ]
    },
    {
      "cell_type": "code",
      "source": [
        "import numpy as np\n",
        "\n",
        "img2 = cv2.cvtColor(im, cv2.COLOR_GRAY2BGR)\n",
        "color_list = [(255, 255, 255),(255, 255, 255),(255, 255, 255),(255, 255, 255),(255, 255, 255)]\n",
        "\n",
        "for i in range(len(contours)):\n",
        "    cnt = contours[i]\n",
        "    #スムｰｼﾝｸﾞ\n",
        "    kernel = np.ones((4,4),np.uint8)\n",
        "    img2 = cv2.dilate(img2,kernel,iterations = 1)\n",
        "    img2 = cv2.drawContours(img2, [cnt], 0, color_list[i], -1)\n",
        "arfa_image = cv2.cvtColor(img2, cv2.COLOR_BGR2RGB)\n",
        "plt.imshow(arfa_image)\n",
        "plt.show()\n",
        "#cv2.imwrite(image_name, arfa_image)# 画像ファイルとして保存"
      ],
      "metadata": {
        "colab": {
          "base_uri": "https://localhost:8080/",
          "height": 434
        },
        "id": "Dn2JT2O_r2Cx",
        "outputId": "71e5e22e-e5d2-478d-fb45-e80e159d79f9"
      },
      "execution_count": 6,
      "outputs": [
        {
          "output_type": "display_data",
          "data": {
            "text/plain": [
              "<Figure size 640x480 with 1 Axes>"
            ],
            "image/png": "[encoded data removed]"
          },
          "metadata": {}
        }
      ]
    },
    {
      "cell_type": "markdown",
      "source": [
        "#CSVでバウンディングボックスのアノテーションデータを出力\n",
        "\n"
      ],
      "metadata": {
        "id": "_5Pd3W4abfmr"
      }
    },
    {
      "cell_type": "code",
      "source": [
        "import numpy as np\n",
        "import cv2\n",
        "#csvに書き込むときは、行列を作って一気に書き込んだほうが処理が速い\n",
        "mask_indexes = np.where(cv2.imread(image_name)[:,:,0]>0)\n",
        "y_min = np.min(mask_indexes[0])\n",
        "y_max = np.max(mask_indexes[0])\n",
        "x_min = np.min(mask_indexes[1])\n",
        "x_max = np.max(mask_indexes[1])\n"
      ],
      "metadata": {
        "id": "IED3Nw5O3kHv"
      },
      "execution_count": null,
      "outputs": []
    },
    {
      "cell_type": "markdown",
      "source": [
        "#JSON(coco)形式でインスタンスセグメンテーションのアノテーションデータを出力"
      ],
      "metadata": {
        "id": "EPSi7-s80Wc1"
      }
    },
    {
      "cell_type": "markdown",
      "source": [
        "ライブラリインポート"
      ],
      "metadata": {
        "id": "GwfJcrH4A6N4"
      }
    },
    {
      "cell_type": "code",
      "source": [
        "import json\n",
        "import collections as cl\n",
        "import numpy as np\n",
        "import matplotlib.pyplot as plt\n",
        "from scipy import ndimage\n",
        "from skimage import measure\n",
        "from skimage.segmentation import clear_border\n",
        "from skimage.filters import threshold_otsu\n",
        "import cv2\n",
        "import glob\n",
        "import sys\n",
        "import os"
      ],
      "metadata": {
        "id": "MlKvQKSNA8ZX"
      },
      "execution_count": null,
      "outputs": []
    },
    {
      "cell_type": "markdown",
      "source": [
        "関数定義"
      ],
      "metadata": {
        "id": "bksvD6tTA_jg"
      }
    },
    {
      "cell_type": "markdown",
      "source": [
        "問題点\n",
        "\n",
        "*複数枚の葉が写った画像に対応させる必要がある"
      ],
      "metadata": {
        "id": "7aNIghfb3PX0"
      }
    },
    {
      "cell_type": "markdown",
      "source": [
        "##※FastLabel形式"
      ],
      "metadata": {
        "id": "Av9y28L8cwxn"
      }
    },
    {
      "cell_type": "code",
      "source": [
        "### https://docs.fastlabel.ai/docs/import-annotation\n",
        "\n",
        "def images(mask_path):\n",
        "    tmps = []\n",
        "    files = glob.glob(mask_path + \"/*.png\")\n",
        "    files.sort()\n",
        "\n",
        "    for i, file in enumerate(files):\n",
        "        img = cv2.imread(file, 0)\n",
        "        height, width = img.shape[:3]\n",
        "\n",
        "        tmp = cl.OrderedDict()\n",
        "        tmp[\"name\"] = os.path.basename(file.replace('png', 'jpg'))\n",
        "        #tmp[\"id\"] = i+1\n",
        "        tmps.append(tmp)\n",
        "    return tmps\n",
        "\n",
        "def categories():\n",
        "    tmps = []\n",
        "    sup = [\"OK\"]\n",
        "\n",
        "    for i in range(len(sup)):\n",
        "        tmp = cl.OrderedDict()\n",
        "        tmp[\"id\"] = i+1\n",
        "        tmp[\"supercategory\"] = sup[0]\n",
        "        tmps.append(tmp)\n",
        "    return tmps\n",
        "\n",
        "\n",
        "def annotations(mask_path):\n",
        "    tmps = []\n",
        "\n",
        "    files = glob.glob(mask_path + \"/*.png\")\n",
        "    files.sort()\n",
        "\n",
        "    for i, file in enumerate(files):\n",
        "        img = cv2.imread(file, 0)\n",
        "        tmp = cl.OrderedDict()\n",
        "        contours = measure.find_contours(img, 0.5)\n",
        "        segmentation_list = []\n",
        "\n",
        "        for contour in contours:\n",
        "            for a in contour:\n",
        "                segmentation_list.append(a[1])\n",
        "                segmentation_list.append(a[0])\n",
        "\n",
        "\n",
        "        mask = np.array(img)\n",
        "        obj_ids = np.unique(mask)\n",
        "        obj_ids = obj_ids[1:]\n",
        "        masks = mask == obj_ids[:, None, None]\n",
        "        num_objs = len(obj_ids)\n",
        "        boxes = []\n",
        "\n",
        "        for j in range(num_objs):\n",
        "            pos = np.where(masks[j])\n",
        "            xmin = np.min(pos[1])\n",
        "            xmax = np.max(pos[1])\n",
        "            ymin = np.min(pos[0])\n",
        "            ymax = np.max(pos[0])\n",
        "            boxes.append([xmin, ymin, xmax, ymax])\n",
        "\n",
        "        tmp_segmentation = cl.OrderedDict()\n",
        "        tmp[\"segmentation\"] = [segmentation_list]\n",
        "\n",
        "        tmp_segmentation = cl.OrderedDict()\n",
        "        tmp[\"image_id\"] = i\n",
        "        tmp[\"category_id\"] = 1\n",
        "        tmp[\"id\"] = i\n",
        "        tmps.append(tmp)\n",
        "    return tmps\n",
        "\n",
        "\n",
        "\n",
        "def main(mask_path, json_name):\n",
        "    query_list = [\"images\",\"categories\",\"annotations\"]\n",
        "    js = cl.OrderedDict()\n",
        "    for i in range(len(query_list)):\n",
        "        tmp = \"\"\n",
        "        # Info\n",
        "        if query_list[i] == \"images\":\n",
        "            tmp = images(mask_path)\n",
        "\n",
        "        elif query_list[i] == \"categories\":\n",
        "            tmp = categories()\n",
        "\n",
        "        elif query_list[i] == \"annotations\":\n",
        "            tmp = annotations(mask_path)\n",
        "\n",
        "        # save it\n",
        "        js[query_list[i]] = tmp\n",
        "\n",
        "    # write\n",
        "    fw = open(json_name,'w')\n",
        "    json.dump(js,fw,indent=2)\n",
        "\n",
        "#main\n",
        "#args = sys.argv\n",
        "#mask_path = args[1]\n",
        "mask_path =  \"/content/mask\"\n",
        "#json_name = args[2]\n",
        "json_name = \"reaf-fastlabel.json\"\n",
        "\n",
        "if __name__=='__main__':\n",
        "    main(mask_path, json_name)"
      ],
      "metadata": {
        "id": "fgE9cnNocuuC"
      },
      "execution_count": null,
      "outputs": []
    },
    {
      "cell_type": "markdown",
      "source": [
        "#背景合成"
      ],
      "metadata": {
        "id": "kpBtaUBCDw0U"
      }
    },
    {
      "cell_type": "markdown",
      "source": [
        "※ドライブから背景を取得"
      ],
      "metadata": {
        "id": "OWYRd15KIdQo"
      }
    },
    {
      "cell_type": "code",
      "source": [
        "import shutil\n",
        "#!cd \"/content/drive/MyDrive/バラ画像/\" && zip -q \"background_image.zip\" -r \"background_image\"\n",
        "shutil.move('/content/drive/MyDrive/バラ画像/background_image.zip','/content')\n",
        "!unzip -q background_image.zip"
      ],
      "metadata": {
        "id": "ik9gvAGbIcLE"
      },
      "execution_count": null,
      "outputs": []
    },
    {
      "cell_type": "markdown",
      "source": [
        "背景画像をrisaize"
      ],
      "metadata": {
        "id": "2B0X5zXVNf-o"
      }
    },
    {
      "cell_type": "code",
      "source": [
        "!pip install Pillow\n",
        "import os\n",
        "from PIL import Image\n",
        "from google.colab import drive,files\n",
        "\n",
        "%cd /content\n",
        "!mkdir background_image_resize\n",
        "\n",
        "dir_name = \"/content/background_image\"\n",
        "new_dir_name = \"/content/background_image_resize\"\n",
        "files = os.listdir(dir_name)\n",
        "\n",
        "for file in files:\n",
        "    photo = Image.open(os.path.join(dir_name, file))\n",
        "    if photo.size[0] == 3120:\n",
        "      photo_resize = photo.resize((433,577))\n",
        "    else:\n",
        "      photo_resize = photo.resize((577,433))\n",
        "    photo_resize.save(os.path.join(new_dir_name, file))"
      ],
      "metadata": {
        "id": "uzg8_4iXNfTs",
        "outputId": "5a4f8902-5dd3-428c-9c78-e1ae781994d8",
        "colab": {
          "base_uri": "https://localhost:8080/"
        }
      },
      "execution_count": null,
      "outputs": [
        {
          "output_type": "stream",
          "name": "stdout",
          "text": [
            "Looking in indexes: https://pypi.org/simple, https://us-python.pkg.dev/colab-wheels/public/simple/\n",
            "Requirement already satisfied: Pillow in /usr/local/lib/python3.7/dist-packages (7.1.2)\n",
            "/content\n"
          ]
        }
      ]
    },
    {
      "cell_type": "code",
      "source": [
        "import cv2\n",
        "\n",
        "img1 = cv2.imread('/content/jpg/1.jpg')\n",
        "img2 = cv2.imread('/content/background_image_resize/IMG_20220427_102011.jpg')\n",
        "\n",
        "height, width = img1.shape[:2]\n",
        "img2[0:height, 0:width] = img1\n",
        "\n",
        "cv2.imwrite('new.jpg', img2)"
      ],
      "metadata": {
        "id": "sAwNs7q4IRPw",
        "outputId": "e82b0968-521d-42d2-d1f1-6f59cdcb67db",
        "colab": {
          "base_uri": "https://localhost:8080/",
          "height": 240
        }
      },
      "execution_count": null,
      "outputs": [
        {
          "output_type": "error",
          "ename": "ValueError",
          "evalue": "ignored",
          "traceback": [
            "\u001b[0;31m---------------------------------------------------------------------------\u001b[0m",
            "\u001b[0;31mValueError\u001b[0m                                Traceback (most recent call last)",
            "\u001b[0;32m<ipython-input-11-9592f2f7bddb>\u001b[0m in \u001b[0;36m<module>\u001b[0;34m()\u001b[0m\n\u001b[1;32m      5\u001b[0m \u001b[0;34m\u001b[0m\u001b[0m\n\u001b[1;32m      6\u001b[0m \u001b[0mheight\u001b[0m\u001b[0;34m,\u001b[0m \u001b[0mwidth\u001b[0m \u001b[0;34m=\u001b[0m \u001b[0mimg1\u001b[0m\u001b[0;34m.\u001b[0m\u001b[0mshape\u001b[0m\u001b[0;34m[\u001b[0m\u001b[0;34m:\u001b[0m\u001b[0;36m2\u001b[0m\u001b[0;34m]\u001b[0m\u001b[0;34m\u001b[0m\u001b[0;34m\u001b[0m\u001b[0m\n\u001b[0;32m----> 7\u001b[0;31m \u001b[0mimg2\u001b[0m\u001b[0;34m[\u001b[0m\u001b[0;36m0\u001b[0m\u001b[0;34m:\u001b[0m\u001b[0mheight\u001b[0m\u001b[0;34m,\u001b[0m \u001b[0;36m0\u001b[0m\u001b[0;34m:\u001b[0m\u001b[0mwidth\u001b[0m\u001b[0;34m]\u001b[0m \u001b[0;34m=\u001b[0m \u001b[0mimg1\u001b[0m\u001b[0;34m\u001b[0m\u001b[0;34m\u001b[0m\u001b[0m\n\u001b[0m\u001b[1;32m      8\u001b[0m \u001b[0;34m\u001b[0m\u001b[0m\n\u001b[1;32m      9\u001b[0m \u001b[0mcv2\u001b[0m\u001b[0;34m.\u001b[0m\u001b[0mimwrite\u001b[0m\u001b[0;34m(\u001b[0m\u001b[0;34m'new.jpg'\u001b[0m\u001b[0;34m,\u001b[0m \u001b[0mimg2\u001b[0m\u001b[0;34m)\u001b[0m\u001b[0;34m\u001b[0m\u001b[0;34m\u001b[0m\u001b[0m\n",
            "\u001b[0;31mValueError\u001b[0m: could not broadcast input array from shape (577,433,3) into shape (433,433,3)"
          ]
        }
      ]
    },
    {
      "cell_type": "markdown",
      "source": [
        "#分けてzip化する"
      ],
      "metadata": {
        "id": "uOp72ZIMHaDc"
      }
    },
    {
      "cell_type": "code",
      "source": [
        "#参考https://kino-code.com/files-move/\n",
        "import os\n",
        "import shutil\n",
        "import zipfile\n",
        "\n",
        "DOWNLOAD_FILE_NAME=\"zip_coler\"\n",
        "\n",
        "#l行のリストをn分割する関数\n",
        "def split_list(l, n):\n",
        "    for idx in range(0, len(l), n):\n",
        "        yield l[idx:idx + n]\n",
        "\n",
        "#作成するフォルダネーム\n",
        "file_extensions = list(range(0,10))\n",
        "split_list_number=10#分割する個数\n",
        "\n",
        "#読み取りたいディレクトリパスを入れる\n",
        "read_path = 'coler'#★読み取るフォルダネームに合わせて変更\n",
        "read_files = os.listdir(read_path)\n",
        "\n",
        "#拡張子リストを取得するフォー文を追加する。\n",
        "for i in file_extensions:\n",
        "  if not os.path.exists(str(i)):\n",
        "    os.mkdir(str(i))\n",
        "\n",
        "#指定の拡張子だけのファイル名をリストを作る\n",
        "file_list = list(split_list(read_files, split_list_number))\n",
        "\n",
        "  #read_listから、指定の拡張子のファイルだけ指定のディレクトリにコピーする\n",
        "for i in file_extensions:\n",
        "  for file_name in file_list[i]:\n",
        "    copy_from = './' + read_path + '/' + file_name\n",
        "    copy_to = './' + str(i) + '/' + file_name\n",
        "    shutil.copy2(copy_from, copy_to)\n",
        "\n",
        "if not os.path.exists('/content/'+DOWNLOAD_FILE_NAME):\n",
        "  os.mkdir(DOWNLOAD_FILE_NAME)\n",
        "\n",
        "  # ZIPファイルを作成\n",
        "for i in file_extensions:\n",
        "  shutil.make_archive(str(i), format='zip', root_dir='/content/'+str(i))"
      ],
      "metadata": {
        "id": "d61ICiYv-ZmH"
      },
      "execution_count": null,
      "outputs": []
    },
    {
      "cell_type": "code",
      "source": [
        "#フォルダを移動\n",
        "for i in file_extensions:\n",
        "  if not os.path.exists('./' + str(i)+'.zip'):\n",
        "    shutil.move('/content/' + str(i)+'.zip','/content/'+DOWNLOAD_FILE_NAME)"
      ],
      "metadata": {
        "id": "TJnd_zu8gRyQ"
      },
      "execution_count": null,
      "outputs": []
    },
    {
      "cell_type": "code",
      "source": [
        "\n",
        "\n",
        "#元ファイルの消去\n",
        "for i in file_extensions:\n",
        "  shutil.rmtree(str(i))\n",
        "  os.remove('/content/' + str(i)+'.zip')\n",
        "\n",
        "#まとめたファイルをzip化\n",
        "shutil.make_archive(DOWNLOAD_FILE_NAME, format='zip', root_dir='/content/'+DOWNLOAD_FILE_NAME)"
      ],
      "metadata": {
        "id": "e6upUoQKgIWe"
      },
      "execution_count": null,
      "outputs": []
    },
    {
      "cell_type": "markdown",
      "source": [
        "白画像生成"
      ],
      "metadata": {
        "id": "vVGDXgncUz7Y"
      }
    },
    {
      "cell_type": "code",
      "source": [
        "import cv2\n",
        "import numpy as np\n",
        "size=(577,433)\n",
        "black_img=np.zeros(size,np.uint8)\n",
        "white_img=black_img+255\n",
        "cv2.imwrite('white.jpg',white_img)"
      ],
      "metadata": {
        "id": "1QNrxIJxUzMK",
        "outputId": "a14482e2-78e9-4036-e6bc-6dd7a84e7158",
        "colab": {
          "base_uri": "https://localhost:8080/"
        }
      },
      "execution_count": null,
      "outputs": [
        {
          "output_type": "execute_result",
          "data": {
            "text/plain": [
              "True"
            ]
          },
          "metadata": {},
          "execution_count": 31
        }
      ]
    },
    {
      "cell_type": "code",
      "source": [
        "import cv2\n",
        "from matplotlib import pyplot as plt\n",
        "import numpy as np\n",
        "from PIL import Image\n",
        "\n",
        "orig1 = np.array(Image.open('/content/jpg/1.jpg'))\n",
        "orig1=cv2.cvtColor(orig1, cv2.COLOR_BGR2RGB)\n",
        "orig2 = np.array(Image.open('/content/semantic_segmentations/1.png'))\n",
        "\n",
        "r = np.array(orig2[:, :, 0], dtype=np.int16)#スライス\n",
        "#retval,r2 = cv2.threshold(r, 0, 255, cv2.THRESH_BINARY)\n",
        "#r= cv2.blur(r,(6, 6))#ぼかす\n",
        "#retval,r = cv2.threshold(r, 250, 255, cv2.THRESH_BINARY)#二値化\n",
        "\n",
        "shape=orig1.shape\n",
        "\n",
        "kiritori=np.zeros((shape[0],shape[1],4))\n",
        "for i in list(range(3)):\n",
        "  kiritori[:,:,i]=orig1[:,:,i]\n",
        "\n",
        "kiritori[:,:,3]=r\n",
        "plt.imshow(orig2)\n",
        "#cv2.imwrite('/content/kiritori.png', kiritori)\n",
        "#np.savetxt('/content/r.txt',r,fmt='%d')"
      ],
      "metadata": {
        "id": "9LIhfp0qTLMt",
        "outputId": "52930395-f04d-4200-9798-7310bda345e4",
        "colab": {
          "base_uri": "https://localhost:8080/",
          "height": 287
        }
      },
      "execution_count": null,
      "outputs": [
        {
          "output_type": "execute_result",
          "data": {
            "text/plain": [
              "<matplotlib.image.AxesImage at 0x7f1eefebaf50>"
            ]
          },
          "metadata": {},
          "execution_count": 58
        },
        {
          "output_type": "display_data",
          "data": {
            "text/plain": [
              "<Figure size 432x288 with 1 Axes>"
            ],
            "image/png": "[encoded data removed]"
          },
          "metadata": {
            "needs_background": "light"
          }
        }
      ]
    }
  ]
}