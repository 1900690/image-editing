{
  "nbformat": 4,
  "nbformat_minor": 0,
  "metadata": {
    "colab": {
      "provenance": [],
      "authorship_tag": "ABX9TyOvue1FPzgaAQd5o7dGGwzt",
      "include_colab_link": true
    },
    "kernelspec": {
      "name": "python3",
      "display_name": "Python 3"
    },
    "language_info": {
      "name": "python"
    }
  },
  "cells": [
    {
      "cell_type": "markdown",
      "metadata": {
        "id": "view-in-github",
        "colab_type": "text"
      },
      "source": [
        "<a href=\"https://colab.research.google.com/github/1900690/removebg-semantic-image-making/blob/main/%E3%83%9E%E3%82%B9%E3%82%AF%E3%81%AB%E5%90%88%E3%82%8F%E3%81%9B%E3%81%A6%E5%88%87%E3%82%8A%E5%8F%96%E3%82%8A.ipynb\" target=\"_parent\"><img src=\"https://colab.research.google.com/assets/colab-badge.svg\" alt=\"Open In Colab\"/></a>"
      ]
    },
    {
      "cell_type": "markdown",
      "source": [
        "#マスクに従って画像を合成\n",
        "\n",
        "[参考](https://note.nkmk.me/python-pillow-composite/#:~:text=4.4.0.dev0%20documentation-,%E5%9B%B3%E5%BD%A2%E6%8F%8F%E7%94%BB%E3%81%A7%E3%83%9E%E3%82%B9%E3%82%AF%E7%94%BB%E5%83%8F%E3%82%92%E4%BD%9C%E6%88%90,-%E5%86%86%E3%82%84%E5%9B%9B%E8%A7%92)"
      ],
      "metadata": {
        "id": "T6C-pcmK-alR"
      }
    },
    {
      "cell_type": "code",
      "source": [
        "#@title fastlabelでオリジナル画像をアップロード\n",
        "import shutil\n",
        "import os\n",
        "from google.colab import files\n",
        "import math\n",
        "\n",
        "\n",
        "#すでにフォルダがある場合は消す\n",
        "if os.path.exists(\"/content/original\"):\n",
        "  shutil.rmtree(\"/content/original\")\n",
        "\n",
        "#データをアップロード\n",
        "file_name =\"syakuyaku500_20250202230718.zip\"\n",
        "#データを解凍\n",
        "shutil.unpack_archive('/content/'+file_name, '/content/')\n",
        "#zipを消す\n",
        "os.remove('/content/'+file_name)"
      ],
      "metadata": {
        "id": "-szFbPzC-yPW"
      },
      "execution_count": 1,
      "outputs": []
    },
    {
      "cell_type": "code",
      "source": [
        "#@title fastlabelでマスク画像をアップロード\n",
        "if os.path.exists(\"/content/mask_binary\"):\n",
        "  shutil.rmtree(\"/content/mask_binary\")\n",
        "\n",
        "#データをアップロード\n",
        "file_name =\"syakuyaku500_20250202230741.zip\"\n",
        "#データを解凍\n",
        "shutil.unpack_archive('/content/'+file_name, '/content/')\n",
        "#zipを消す\n",
        "os.remove('/content/'+file_name)"
      ],
      "metadata": {
        "id": "kRf-Dlp1-_nk"
      },
      "execution_count": 2,
      "outputs": []
    },
    {
      "cell_type": "code",
      "execution_count": 16,
      "metadata": {
        "id": "a4zNR3M--G0g"
      },
      "outputs": [],
      "source": [
        "#@title マスクで指定された部分を切り取り\n",
        "from PIL import Image, ImageDraw, ImageFilter\n",
        "import glob\n",
        "from PIL import Image, ImageOps\n",
        "\n",
        "file_list = sorted(glob.glob('/content/original/*.jpg'))\n",
        "\n",
        "if os.path.exists('/content/output'):\n",
        "    shutil.rmtree(\"/content/output\")\n",
        "if not os.path.exists('/content/output'):\n",
        "    os.makedirs('/content/output')\n",
        "\n",
        "for filename in file_list:\n",
        "    im2 = Image.open(filename)\n",
        "    im1 = ImageOps.invert(Image.open('/content/mask_binary/semantic_segmentations/'+os.path.basename(filename)))\n",
        "    mask = Image.open('/content/mask_binary/semantic_segmentations/'+os.path.basename(filename))\n",
        "    im = Image.composite(im1, im2, mask)\n",
        "\n",
        "    im.save('/content/output/'+os.path.basename(filename))"
      ]
    },
    {
      "cell_type": "code",
      "source": [
        "#@markdown 作ったファイルをダウンロード\n",
        "import shutil\n",
        "import os\n",
        "from google.colab import files\n",
        "\n",
        "shutil.make_archive('/content/convert', 'zip', '/content/output')"
      ],
      "metadata": {
        "colab": {
          "base_uri": "https://localhost:8080/",
          "height": 35
        },
        "id": "DQC2oGJhERet",
        "outputId": "cbc82135-2686-42bb-b0b9-d0116cdfae15"
      },
      "execution_count": 18,
      "outputs": [
        {
          "output_type": "execute_result",
          "data": {
            "text/plain": [
              "'/content/convert.zip'"
            ],
            "application/vnd.google.colaboratory.intrinsic+json": {
              "type": "string"
            }
          },
          "metadata": {},
          "execution_count": 18
        }
      ]
    }
  ]
}