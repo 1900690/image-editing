{
  "nbformat": 4,
  "nbformat_minor": 0,
  "metadata": {
    "colab": {
      "provenance": [],
      "authorship_tag": "ABX9TyPFoslz5Tu5ozb3UatssaCt",
      "include_colab_link": true
    },
    "kernelspec": {
      "name": "python3",
      "display_name": "Python 3"
    },
    "language_info": {
      "name": "python"
    }
  },
  "cells": [
    {
      "cell_type": "markdown",
      "metadata": {
        "id": "view-in-github",
        "colab_type": "text"
      },
      "source": [
        "<a href=\"https://colab.research.google.com/github/1900690/image-editing/blob/main/%E8%83%8C%E6%99%AF%E6%B6%88%E5%8E%BB.ipynb\" target=\"_parent\"><img src=\"https://colab.research.google.com/assets/colab-badge.svg\" alt=\"Open In Colab\"/></a>"
      ]
    },
    {
      "cell_type": "markdown",
      "source": [
        "##2.画像の背景を消去する\n",
        "*   画像の背景は物体検出を行う際の精度低下の原因となるため取り除く\n",
        "\n",
        "　　　[出典:物体認識における背景の有無による学習効果に関する考察](https://www.osaka-kyoiku.ac.jp/~challeng/SIG-Challenge-044/SigChallenge-044-06.pdf)\n",
        "*   pythonで使える[rembg](https://github.com/danielgatis/rembg)という[ライブラリ](https://wa3.i-3-i.info/word1473.html#:~:text=%E3%83%A9%E3%82%A4%E3%83%96%E3%83%A9%E3%83%AA%EF%BC%88%E8%8B%B1%EF%BC%9Alibrary,%E3%81%A7%E3%81%99%E3%80%82)があるのでインストールして使用する\n",
        "\n"
      ],
      "metadata": {
        "id": "IhWeD8r-jJL_"
      }
    },
    {
      "cell_type": "code",
      "source": [
        "#@title rembgをインストール\n",
        "#rembgをインストール\n",
        "!pip install rembg\n",
        "!pip install onnxruntime\n",
        "#新しくインストールしたライブラリを働かせるためにランタイムを一度リセット\n",
        "#exit()"
      ],
      "metadata": {
        "id": "Fz8i1IlyoFLg",
        "outputId": "b086ad26-2bd4-4e6b-a549-c3ea938f12d2",
        "colab": {
          "base_uri": "https://localhost:8080/"
        }
      },
      "execution_count": null,
      "outputs": [
        {
          "output_type": "stream",
          "name": "stdout",
          "text": [
            "Collecting rembg\n",
            "  Downloading rembg-2.0.62-py3-none-any.whl.metadata (18 kB)\n",
            "Requirement already satisfied: jsonschema in /usr/local/lib/python3.11/dist-packages (from rembg) (4.23.0)\n",
            "Requirement already satisfied: numpy in /usr/local/lib/python3.11/dist-packages (from rembg) (1.26.4)\n",
            "Requirement already satisfied: opencv-python-headless in /usr/local/lib/python3.11/dist-packages (from rembg) (4.11.0.86)\n",
            "Requirement already satisfied: pillow in /usr/local/lib/python3.11/dist-packages (from rembg) (11.1.0)\n",
            "Requirement already satisfied: pooch in /usr/local/lib/python3.11/dist-packages (from rembg) (1.8.2)\n",
            "Collecting pymatting (from rembg)\n",
            "  Downloading PyMatting-1.1.13-py3-none-any.whl.metadata (7.5 kB)\n",
            "Requirement already satisfied: scikit-image in /usr/local/lib/python3.11/dist-packages (from rembg) (0.25.1)\n",
            "Requirement already satisfied: scipy in /usr/local/lib/python3.11/dist-packages (from rembg) (1.13.1)\n",
            "Requirement already satisfied: tqdm in /usr/local/lib/python3.11/dist-packages (from rembg) (4.67.1)\n",
            "Requirement already satisfied: attrs>=22.2.0 in /usr/local/lib/python3.11/dist-packages (from jsonschema->rembg) (25.1.0)\n",
            "Requirement already satisfied: jsonschema-specifications>=2023.03.6 in /usr/local/lib/python3.11/dist-packages (from jsonschema->rembg) (2024.10.1)\n",
            "Requirement already satisfied: referencing>=0.28.4 in /usr/local/lib/python3.11/dist-packages (from jsonschema->rembg) (0.36.2)\n",
            "Requirement already satisfied: rpds-py>=0.7.1 in /usr/local/lib/python3.11/dist-packages (from jsonschema->rembg) (0.22.3)\n",
            "Requirement already satisfied: platformdirs>=2.5.0 in /usr/local/lib/python3.11/dist-packages (from pooch->rembg) (4.3.6)\n",
            "Requirement already satisfied: packaging>=20.0 in /usr/local/lib/python3.11/dist-packages (from pooch->rembg) (24.2)\n",
            "Requirement already satisfied: requests>=2.19.0 in /usr/local/lib/python3.11/dist-packages (from pooch->rembg) (2.32.3)\n",
            "Requirement already satisfied: numba!=0.49.0 in /usr/local/lib/python3.11/dist-packages (from pymatting->rembg) (0.60.0)\n",
            "Requirement already satisfied: networkx>=3.0 in /usr/local/lib/python3.11/dist-packages (from scikit-image->rembg) (3.4.2)\n",
            "Requirement already satisfied: imageio!=2.35.0,>=2.33 in /usr/local/lib/python3.11/dist-packages (from scikit-image->rembg) (2.36.1)\n",
            "Requirement already satisfied: tifffile>=2022.8.12 in /usr/local/lib/python3.11/dist-packages (from scikit-image->rembg) (2025.1.10)\n",
            "Requirement already satisfied: lazy-loader>=0.4 in /usr/local/lib/python3.11/dist-packages (from scikit-image->rembg) (0.4)\n",
            "Requirement already satisfied: llvmlite<0.44,>=0.43.0dev0 in /usr/local/lib/python3.11/dist-packages (from numba!=0.49.0->pymatting->rembg) (0.43.0)\n",
            "Requirement already satisfied: typing-extensions>=4.4.0 in /usr/local/lib/python3.11/dist-packages (from referencing>=0.28.4->jsonschema->rembg) (4.12.2)\n",
            "Requirement already satisfied: charset-normalizer<4,>=2 in /usr/local/lib/python3.11/dist-packages (from requests>=2.19.0->pooch->rembg) (3.4.1)\n",
            "Requirement already satisfied: idna<4,>=2.5 in /usr/local/lib/python3.11/dist-packages (from requests>=2.19.0->pooch->rembg) (3.10)\n",
            "Requirement already satisfied: urllib3<3,>=1.21.1 in /usr/local/lib/python3.11/dist-packages (from requests>=2.19.0->pooch->rembg) (2.3.0)\n",
            "Requirement already satisfied: certifi>=2017.4.17 in /usr/local/lib/python3.11/dist-packages (from requests>=2.19.0->pooch->rembg) (2024.12.14)\n",
            "Downloading rembg-2.0.62-py3-none-any.whl (40 kB)\n",
            "\u001b[2K   \u001b[90m━━━━━━━━━━━━━━━━━━━━━━━━━━━━━━━━━━━━━━━━\u001b[0m \u001b[32m40.8/40.8 kB\u001b[0m \u001b[31m1.0 MB/s\u001b[0m eta \u001b[36m0:00:00\u001b[0m\n",
            "\u001b[?25hDownloading PyMatting-1.1.13-py3-none-any.whl (54 kB)\n",
            "\u001b[2K   \u001b[90m━━━━━━━━━━━━━━━━━━━━━━━━━━━━━━━━━━━━━━━━\u001b[0m \u001b[32m54.5/54.5 kB\u001b[0m \u001b[31m3.1 MB/s\u001b[0m eta \u001b[36m0:00:00\u001b[0m\n",
            "\u001b[?25hInstalling collected packages: pymatting, rembg\n",
            "Successfully installed pymatting-1.1.13 rembg-2.0.62\n",
            "Collecting onnxruntime\n",
            "  Downloading onnxruntime-1.20.1-cp311-cp311-manylinux_2_27_x86_64.manylinux_2_28_x86_64.whl.metadata (4.5 kB)\n",
            "Collecting coloredlogs (from onnxruntime)\n",
            "  Downloading coloredlogs-15.0.1-py2.py3-none-any.whl.metadata (12 kB)\n",
            "Requirement already satisfied: flatbuffers in /usr/local/lib/python3.11/dist-packages (from onnxruntime) (25.1.24)\n",
            "Requirement already satisfied: numpy>=1.21.6 in /usr/local/lib/python3.11/dist-packages (from onnxruntime) (1.26.4)\n",
            "Requirement already satisfied: packaging in /usr/local/lib/python3.11/dist-packages (from onnxruntime) (24.2)\n",
            "Requirement already satisfied: protobuf in /usr/local/lib/python3.11/dist-packages (from onnxruntime) (4.25.6)\n",
            "Requirement already satisfied: sympy in /usr/local/lib/python3.11/dist-packages (from onnxruntime) (1.13.1)\n",
            "Collecting humanfriendly>=9.1 (from coloredlogs->onnxruntime)\n",
            "  Downloading humanfriendly-10.0-py2.py3-none-any.whl.metadata (9.2 kB)\n",
            "Requirement already satisfied: mpmath<1.4,>=1.1.0 in /usr/local/lib/python3.11/dist-packages (from sympy->onnxruntime) (1.3.0)\n",
            "Downloading onnxruntime-1.20.1-cp311-cp311-manylinux_2_27_x86_64.manylinux_2_28_x86_64.whl (13.3 MB)\n",
            "\u001b[2K   \u001b[90m━━━━━━━━━━━━━━━━━━━━━━━━━━━━━━━━━━━━━━━━\u001b[0m \u001b[32m13.3/13.3 MB\u001b[0m \u001b[31m63.5 MB/s\u001b[0m eta \u001b[36m0:00:00\u001b[0m\n",
            "\u001b[?25hDownloading coloredlogs-15.0.1-py2.py3-none-any.whl (46 kB)\n",
            "\u001b[2K   \u001b[90m━━━━━━━━━━━━━━━━━━━━━━━━━━━━━━━━━━━━━━━━\u001b[0m \u001b[32m46.0/46.0 kB\u001b[0m \u001b[31m3.1 MB/s\u001b[0m eta \u001b[36m0:00:00\u001b[0m\n",
            "\u001b[?25hDownloading humanfriendly-10.0-py2.py3-none-any.whl (86 kB)\n",
            "\u001b[2K   \u001b[90m━━━━━━━━━━━━━━━━━━━━━━━━━━━━━━━━━━━━━━━━\u001b[0m \u001b[32m86.8/86.8 kB\u001b[0m \u001b[31m6.5 MB/s\u001b[0m eta \u001b[36m0:00:00\u001b[0m\n",
            "\u001b[?25hInstalling collected packages: humanfriendly, coloredlogs, onnxruntime\n",
            "Successfully installed coloredlogs-15.0.1 humanfriendly-10.0 onnxruntime-1.20.1\n"
          ]
        }
      ]
    },
    {
      "cell_type": "code",
      "source": [
        "#ライブラリをインポート(機能を使えるようにする)\n",
        "import shutil\n",
        "import os\n",
        "from google.colab import files\n",
        "import math\n",
        "file_name =\"okbudmask.zip\"\n",
        "#データを解凍\n",
        "shutil.unpack_archive('/content/'+file_name, '/content/')\n",
        "#zipを消す\n",
        "os.remove('/content/'+file_name)"
      ],
      "metadata": {
        "id": "HtGLBNrVFdwK"
      },
      "execution_count": null,
      "outputs": []
    },
    {
      "cell_type": "code",
      "source": [
        "shutil.rmtree('/content/syakuyaku-semantic-bud-cut-out_20250205160750')"
      ],
      "metadata": {
        "id": "9oPVzoMoJqFz"
      },
      "execution_count": null,
      "outputs": []
    },
    {
      "cell_type": "code",
      "source": [
        "#@title 背景消去を行う\n",
        "#ライブラリをインポート\n",
        "from rembg import remove\n",
        "import cv2\n",
        "import shutil\n",
        "import os\n",
        "\n",
        "#背景処理前の画像を分離するためにフォルダを作って移動させる\n",
        "if not os.path.exists('/content/originals_test/'):\n",
        "  #shutil.copytree('/content/originals_test/','/content/originals/')\n",
        "  #shutil.rmtree('/content/originals_test/')\n",
        "  os.mkdir('/content/originals_test/')\n",
        "\n",
        "\n",
        "read_folda_name='/content/okbudmask/'\n",
        "read_folda = os.listdir(read_folda_name)\n",
        "\n",
        "#背景消去\n",
        "for imgname in read_folda:\n",
        "  input = cv2.imread('/content/okbudmask/'+imgname)\n",
        "  output = remove(input)\n",
        "  cv2.imwrite('/content/originals_test/'+imgname[:-4]+\".png\", output)"
      ],
      "metadata": {
        "id": "Oi-uCi8Upil_",
        "outputId": "06e759ca-94ca-44c0-88cf-e5e700c79146",
        "colab": {
          "base_uri": "https://localhost:8080/"
        }
      },
      "execution_count": null,
      "outputs": [
        {
          "output_type": "stream",
          "name": "stderr",
          "text": [
            "Downloading data from 'https://github.com/danielgatis/rembg/releases/download/v0.0.0/u2net.onnx' to file '/root/.u2net/u2net.onnx'.\n",
            "100%|████████████████████████████████████████| 176M/176M [00:00<00:00, 108GB/s]\n"
          ]
        }
      ]
    },
    {
      "cell_type": "code",
      "source": [
        "#@markdown 作ったファイルをダウンロード\n",
        "import shutil\n",
        "import os\n",
        "from google.colab import files\n",
        "\n",
        "shutil.make_archive('/content/okbudmask_remove', 'zip', '/content/originals_test')"
      ],
      "metadata": {
        "colab": {
          "base_uri": "https://localhost:8080/",
          "height": 35
        },
        "id": "Ag11JAxALH-T",
        "outputId": "5bf1957f-4a75-4495-a8f7-e9ca90256661"
      },
      "execution_count": null,
      "outputs": [
        {
          "output_type": "execute_result",
          "data": {
            "text/plain": [
              "'/content/okbudmask_remove.zip'"
            ],
            "application/vnd.google.colaboratory.intrinsic+json": {
              "type": "string"
            }
          },
          "metadata": {},
          "execution_count": 10
        }
      ]
    },
    {
      "cell_type": "markdown",
      "source": [
        "#JPGの黒のみを透過させる"
      ],
      "metadata": {
        "id": "5T_llxvuN22C"
      }
    },
    {
      "cell_type": "code",
      "source": [
        "from PIL import Image\n",
        "import os\n",
        "\n",
        "if os.path.exists('/content/jpg_to_png/'):\n",
        "  shutil.rmtree('/content/jpg_to_png/')\n",
        "if not os.path.exists('/content/jpg_to_png/'):\n",
        "  os.mkdir('/content/jpg_to_png/')\n",
        "\n",
        "def convert_jpg_to_png(input_folder, output_folder):\n",
        "    # 1. 入力フォルダ内のJPEG画像をリストアップ\n",
        "    jpg_files = [f for f in os.listdir(input_folder) if f.endswith('.jpg')]\n",
        "\n",
        "    # 2. 出力フォルダが存在しなければ作成\n",
        "    os.makedirs(output_folder, exist_ok=True)\n",
        "\n",
        "    # 3. 各JPEG画像をPNGに変換\n",
        "    for jpg_file in jpg_files:\n",
        "        jpg_path = os.path.join(input_folder, jpg_file)\n",
        "        # PNGの出力パスを生成\n",
        "        png_path = os.path.join(output_folder, os.path.splitext(jpg_file)[0] + '.png')\n",
        "\n",
        "        # 画像の変換\n",
        "        img = Image.open(jpg_path)\n",
        "        img.save(png_path, 'PNG')\n",
        "\n",
        "if __name__ == \"__main__\":\n",
        "    input_folder = \"/content/okbudmask/\"  # JPEG画像があるフォルダ\n",
        "    output_folder = \"/content/jpg_to_png/\"  # PNG画像を保存するフォルダ\n",
        "\n",
        "    convert_jpg_to_png(input_folder, output_folder)\n",
        "\n",
        "\n",
        "from PIL import Image\n",
        "import numpy as np\n",
        "\n",
        "if os.path.exists('/content/png_alpha/'):\n",
        "  shutil.rmtree('/content/png_alpha/')\n",
        "if not os.path.exists('/content/png_alpha/'):\n",
        "  os.mkdir('/content/png_alpha/')\n",
        "\n",
        "read_folda_name='/content/jpg_to_png/'\n",
        "read_folda = os.listdir(read_folda_name)\n",
        "\n",
        "for imgname in read_folda:\n",
        "  # pngファイルの色情報を読み込む [red, green, blue, alpha]\n",
        "  img_array = np.array(Image.open('/content/jpg_to_png/'+imgname))\n",
        "\n",
        "  # Add an alpha channel to the image\n",
        "  img_array = np.dstack((img_array, np.ones(img_array.shape[:2], dtype=np.uint8) * 255))\n",
        "\n",
        "  # 黒に近い画素のアルファ値を0にして透過させる\n",
        "  for row in img_array:\n",
        "    for pixel in row:\n",
        "        if pixel[0] <= 70 and pixel[1] <= 70 and pixel[2] <= 70 :\n",
        "            pixel[3] = 0 # Modify alpha channel directly instead of using np.put\n",
        "\n",
        "  img = Image.fromarray(img_array)\n",
        "\n",
        "  img.save('/content/png_alpha/'+imgname[:-4]+\".png\") # Changed this line\n",
        "\n",
        "img"
      ],
      "metadata": {
        "id": "X35Pzfe1OOQB",
        "outputId": "c9a2f6b9-bd18-4ded-f704-b50fd9e7349a",
        "colab": {
          "base_uri": "https://localhost:8080/",
          "height": 118
        }
      },
      "execution_count": null,
      "outputs": [
        {
          "output_type": "execute_result",
          "data": {
            "text/plain": [
              "<PIL.Image.Image image mode=RGBA size=109x101>"
            ],
            "image/png": "[encoded data removed]"
          },
          "metadata": {},
          "execution_count": 23
        }
      ]
    },
    {
      "cell_type": "code",
      "source": [
        "#@markdown 作ったファイルをダウンロード\n",
        "import shutil\n",
        "import os\n",
        "from google.colab import files\n",
        "\n",
        "shutil.make_archive('/content/mask_segmentation', 'zip', '/content/png_alpha')"
      ],
      "metadata": {
        "id": "-0AhEw-vRYuB",
        "outputId": "219355cd-8baa-4bf8-dd84-3567f28fe3d8",
        "colab": {
          "base_uri": "https://localhost:8080/",
          "height": 35
        }
      },
      "execution_count": null,
      "outputs": [
        {
          "output_type": "execute_result",
          "data": {
            "text/plain": [
              "'/content/mask_segmentation.zip'"
            ],
            "application/vnd.google.colaboratory.intrinsic+json": {
              "type": "string"
            }
          },
          "metadata": {},
          "execution_count": 24
        }
      ]
    }
  ]
}